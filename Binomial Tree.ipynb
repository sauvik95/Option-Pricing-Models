{
 "cells": [
  {
   "cell_type": "code",
   "execution_count": 1,
   "id": "eda166e3",
   "metadata": {},
   "outputs": [],
   "source": [
    "import numpy as np"
   ]
  },
  {
   "cell_type": "code",
   "execution_count": 2,
   "id": "e2a94519",
   "metadata": {},
   "outputs": [],
   "source": [
    "def binomial_tree_option_pricing(S, K, T, r, sigma, n, option_type=\"call\", exercise_type=\"european\"):\n",
    "    \"\"\"\n",
    "    Binomial Tree Option Pricing Model for European and American options.\n",
    "\n",
    "    Parameters:\n",
    "        S (float): Current stock price.\n",
    "        K (float): Strike price.\n",
    "        T (float): Time to maturity (in years).\n",
    "        r (float): Risk-free interest rate (annualized).\n",
    "        sigma (float): Volatility of the underlying asset.\n",
    "        n (int): Number of time steps.\n",
    "        option_type (str): \"call\" or \"put\" (default: \"call\").\n",
    "        exercise_type (str): \"european\" or \"american\" (default: \"european\").\n",
    "\n",
    "    \"\"\"\n",
    "    # Step size\n",
    "    dt = T / n\n",
    "\n",
    "    # Up and down factors\n",
    "    u = np.exp(sigma * np.sqrt(dt))\n",
    "    d = 1 / u\n",
    "\n",
    "    # Risk-neutral probability\n",
    "    p = (np.exp(r * dt) - d) / (u - d)\n",
    "\n",
    "    # Initialize stock price tree\n",
    "    stock_price = [[0] * (i + 1) for i in range(n + 1)]\n",
    "    for i in range(n + 1):\n",
    "        for j in range(i + 1):\n",
    "            stock_price[i][j] = S * (u ** j) * (d ** (i - j))\n",
    "\n",
    "    # Initialize option price tree\n",
    "    option_price = [[0] * (i + 1) for i in range(n + 1)]\n",
    "\n",
    "    # Compute option values at maturity\n",
    "    for j in range(n + 1):\n",
    "        if option_type == \"call\":\n",
    "            option_price[n][j] = max(0, stock_price[n][j] - K)\n",
    "        elif option_type == \"put\":\n",
    "            option_price[n][j] = max(0, K - stock_price[n][j])\n",
    "\n",
    "    # Backward induction to calculate option price at t=0\n",
    "    for i in range(n - 1, -1, -1):\n",
    "        for j in range(i + 1):\n",
    "            # Discounted expected value of option price in the next step\n",
    "            expected_value = np.exp(-r * dt) * (\n",
    "                p * option_price[i + 1][j + 1] + (1 - p) * option_price[i + 1][j]\n",
    "            )\n",
    "\n",
    "            if exercise_type == \"american\":\n",
    "                # For American options, check early exercise\n",
    "                if option_type == \"call\":\n",
    "                    early_exercise = max(0, stock_price[i][j] - K)\n",
    "                elif option_type == \"put\":\n",
    "                    early_exercise = max(0, K - stock_price[i][j])\n",
    "                option_price[i][j] = max(expected_value, early_exercise)\n",
    "            else:\n",
    "                # For European options, no early exercise\n",
    "                option_price[i][j] = expected_value\n",
    "\n",
    "    # Option price at t=0\n",
    "    return option_price[0][0]"
   ]
  },
  {
   "cell_type": "code",
   "execution_count": 3,
   "id": "e1197aaa",
   "metadata": {},
   "outputs": [
    {
     "name": "stdout",
     "output_type": "stream",
     "text": [
      "European Call Option Price: 10.41\n",
      "European Put Option Price: 5.53\n",
      "American Call Option Price: 10.41\n",
      "American Put Option Price: 6.07\n"
     ]
    }
   ],
   "source": [
    "# Parameters\n",
    "S = 100  # Current stock price\n",
    "K = 100  # Strike price\n",
    "T = 1    # Time to maturity in years\n",
    "r = 0.05  # Risk-free interest rate\n",
    "sigma = 0.2  # Volatility\n",
    "n = 50  # Number of steps\n",
    "\n",
    "# European Call Option\n",
    "european_call_price = binomial_tree_option_pricing(S, K, T, r, sigma, n, option_type=\"call\", exercise_type=\"european\")\n",
    "print(f\"European Call Option Price: {european_call_price:.2f}\")\n",
    "\n",
    "# European Put Option\n",
    "european_put_price = binomial_tree_option_pricing(S, K, T, r, sigma, n, option_type=\"put\", exercise_type=\"european\")\n",
    "print(f\"European Put Option Price: {european_put_price:.2f}\")\n",
    "\n",
    "# American Call Option\n",
    "american_call_price = binomial_tree_option_pricing(S, K, T, r, sigma, n, option_type=\"call\", exercise_type=\"american\")\n",
    "print(f\"American Call Option Price: {american_call_price:.2f}\")\n",
    "\n",
    "# American Put Option\n",
    "american_put_price = binomial_tree_option_pricing(S, K, T, r, sigma, n, option_type=\"put\", exercise_type=\"american\")\n",
    "print(f\"American Put Option Price: {american_put_price:.2f}\")\n"
   ]
  }
 ],
 "metadata": {
  "kernelspec": {
   "display_name": "Python 3 (ipykernel)",
   "language": "python",
   "name": "python3"
  },
  "language_info": {
   "codemirror_mode": {
    "name": "ipython",
    "version": 3
   },
   "file_extension": ".py",
   "mimetype": "text/x-python",
   "name": "python",
   "nbconvert_exporter": "python",
   "pygments_lexer": "ipython3",
   "version": "3.9.13"
  }
 },
 "nbformat": 4,
 "nbformat_minor": 5
}
