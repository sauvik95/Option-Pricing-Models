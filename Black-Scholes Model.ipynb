{
 "cells": [
  {
   "cell_type": "code",
   "execution_count": 4,
   "id": "18e997c7",
   "metadata": {},
   "outputs": [],
   "source": [
    "import numpy as np\n",
    "import pandas as pd\n",
    "from scipy.stats import norm"
   ]
  },
  {
   "cell_type": "code",
   "execution_count": 2,
   "id": "3e1a800c",
   "metadata": {},
   "outputs": [],
   "source": [
    "def bsm_call(S,X,r,t,sigma,q):\n",
    "    '''\n",
    "    S = Stock price at PV\n",
    "    X = Strike price\n",
    "    r = Risk-free rate (treasury rate)\n",
    "    t = Time to expiry\n",
    "    sigma = Volatility\n",
    "    q = Dividend yield\n",
    "    '''\n",
    "    # Delta of option\n",
    "    d1 = (np.log(S / X) + (r - q + (0.5 * sigma**2)) * t) / (sigma * np.sqrt(t))\n",
    "    N_d1 = norm.cdf(d1)\n",
    "    \n",
    "    # Probability of option expiring in the money\n",
    "    d2 = d1 - sigma * np.sqrt(t)\n",
    "    N_d2 = norm.cdf(d2)\n",
    "    \n",
    "    call = (S * np.exp(-q * t) * N_d1) - (X * np.exp(-r * t) * N_d2)\n",
    "    \n",
    "    return call"
   ]
  },
  {
   "cell_type": "code",
   "execution_count": 3,
   "id": "8486b8fd",
   "metadata": {},
   "outputs": [],
   "source": [
    "def bsm_put(S,X,r,t,sigma,q):\n",
    "    '''\n",
    "    S = Stock price at PV\n",
    "    X = Strike price\n",
    "    r = Risk-free rate (treasury rate)\n",
    "    t = Time to expiry\n",
    "    sigma = Volatility\n",
    "    q = Dividend yield\n",
    "    '''\n",
    "    # Delta of option\n",
    "    d1 = (np.log(S / X) + (r - q + (0.5 * sigma**2)) * t) / (sigma * np.sqrt(t))\n",
    "    N_d1 = norm.cdf(-d1) #N(-d1)\n",
    "    \n",
    "    # Probability of option expiring in the money\n",
    "    d2 = d1 - sigma * np.sqrt(t)\n",
    "    N_d2 = norm.cdf(-d2) #N(-d2)\n",
    "    \n",
    "    put = (X * np.exp(-r * t) * N_d2) - (S * np.exp(-q * t) * N_d1)\n",
    "    \n",
    "    return put"
   ]
  }
 ],
 "metadata": {
  "kernelspec": {
   "display_name": "Python 3 (ipykernel)",
   "language": "python",
   "name": "python3"
  },
  "language_info": {
   "codemirror_mode": {
    "name": "ipython",
    "version": 3
   },
   "file_extension": ".py",
   "mimetype": "text/x-python",
   "name": "python",
   "nbconvert_exporter": "python",
   "pygments_lexer": "ipython3",
   "version": "3.9.13"
  }
 },
 "nbformat": 4,
 "nbformat_minor": 5
}
