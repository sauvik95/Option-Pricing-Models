{
 "cells": [
  {
   "cell_type": "markdown",
   "id": "31c050c5",
   "metadata": {},
   "source": [
    "# Models:\n",
    "1. Bachelier Model \n",
    "2. Sprenkle Model \n",
    "3. Boness Model\n",
    "4. Samuelson Model"
   ]
  },
  {
   "cell_type": "code",
   "execution_count": 6,
   "id": "4432ca7b",
   "metadata": {},
   "outputs": [],
   "source": [
    "from scipy.stats import norm\n",
    "import math"
   ]
  },
  {
   "cell_type": "markdown",
   "id": "7b48981d",
   "metadata": {},
   "source": [
    "## Bachelier Model\n",
    "- Assumes normal distribution of stock prices."
   ]
  },
  {
   "cell_type": "code",
   "execution_count": 2,
   "id": "d18fe922",
   "metadata": {},
   "outputs": [
    {
     "name": "stdout",
     "output_type": "stream",
     "text": [
      "Bachelier Call Option Price: 6.64\n"
     ]
    }
   ],
   "source": [
    "def bachelier_model(S, K, T, r, sigma, option_type=\"call\"):\n",
    "    \"\"\"\n",
    "    Bachelier Model for option pricing.\n",
    "\n",
    "    Parameters:\n",
    "        S (float): Current stock price.\n",
    "        K (float): Strike price.\n",
    "        T (float): Time to maturity (in years).\n",
    "        r (float): Risk-free interest rate.\n",
    "        sigma (float): Volatility of the underlying asset.\n",
    "        option_type (str): \"call\" or \"put\".\n",
    "    \"\"\"\n",
    "    d = (S - K) / (sigma * math.sqrt(T))\n",
    "    if option_type == \"call\":\n",
    "        price = math.exp(-r * T) * ((S - K) * norm.cdf(d) + sigma * math.sqrt(T) * norm.pdf(d))\n",
    "    elif option_type == \"put\":\n",
    "        price = math.exp(-r * T) * ((K - S) * norm.cdf(-d) + sigma * math.sqrt(T) * norm.pdf(d))\n",
    "    return price\n",
    "\n",
    "# Example\n",
    "bachelier_call = bachelier_model(S=100, K=95, T=1, r=0.05, sigma=10, option_type=\"call\")\n",
    "print(f\"Bachelier Call Option Price: {bachelier_call:.2f}\")"
   ]
  },
  {
   "cell_type": "markdown",
   "id": "b606b40b",
   "metadata": {},
   "source": [
    "## Sprenkle Model\n",
    "- Uses risk-neutral valuation for log-normal stock price distribution."
   ]
  },
  {
   "cell_type": "code",
   "execution_count": 3,
   "id": "bab6f58a",
   "metadata": {},
   "outputs": [
    {
     "name": "stdout",
     "output_type": "stream",
     "text": [
      "Sprenkle Call Option Price: 0.00\n"
     ]
    }
   ],
   "source": [
    "def sprenkle_model(S, K, T, r, sigma, option_type=\"call\"):\n",
    "    \"\"\"\n",
    "    Sprenkle Model for option pricing.\n",
    "\n",
    "    Parameters:\n",
    "        S (float): Current stock price.\n",
    "        K (float): Strike price.\n",
    "        T (float): Time to maturity (in years).\n",
    "        r (float): Risk-free interest rate.\n",
    "        sigma (float): Volatility of the underlying asset.\n",
    "        option_type (str): \"call\" or \"put\".\n",
    "    \"\"\"\n",
    "    p = S * math.exp(-r * T) * (1 - math.exp(-sigma * math.sqrt(T)))\n",
    "    if option_type == \"call\":\n",
    "        price = max(0, p - K * math.exp(-r * T))\n",
    "    elif option_type == \"put\":\n",
    "        price = max(0, K * math.exp(-r * T) - p)\n",
    "    return price, p\n",
    "\n",
    "# Example\n",
    "sprenkle_call,p = sprenkle_model(S=100, K=95, T=1, r=0.05, sigma=0.2, option_type=\"call\")\n",
    "print(f\"Sprenkle Call Option Price: {sprenkle_call:.2f}\")"
   ]
  },
  {
   "cell_type": "markdown",
   "id": "e2a043f1",
   "metadata": {},
   "source": [
    "## Boness Model\n",
    "- Incorporates dividends into the option pricing."
   ]
  },
  {
   "cell_type": "code",
   "execution_count": 4,
   "id": "f03d6d01",
   "metadata": {},
   "outputs": [
    {
     "name": "stdout",
     "output_type": "stream",
     "text": [
      "Boness Call Option Price: 11.94\n"
     ]
    }
   ],
   "source": [
    "def boness_model(S, K, T, r, sigma, q, option_type=\"call\"):\n",
    "    \"\"\"\n",
    "    Boness Model for option pricing with dividends.\n",
    "\n",
    "    Parameters:\n",
    "        S (float): Current stock price.\n",
    "        K (float): Strike price.\n",
    "        T (float): Time to maturity (in years).\n",
    "        r (float): Risk-free interest rate.\n",
    "        sigma (float): Volatility of the underlying asset.\n",
    "        q (float): Dividend yield.\n",
    "        option_type (str): \"call\" or \"put\".\n",
    "    \"\"\"\n",
    "    d1 = (math.log(S / K) + (r - q + sigma**2 / 2) * T) / (sigma * math.sqrt(T))\n",
    "    d2 = d1 - sigma * math.sqrt(T)\n",
    "    if option_type == \"call\":\n",
    "        price = S * math.exp(-q * T) * norm.cdf(d1) - K * math.exp(-r * T) * norm.cdf(d2)\n",
    "    elif option_type == \"put\":\n",
    "        price = K * math.exp(-r * T) * norm.cdf(-d2) - S * math.exp(-q * T) * norm.cdf(-d1)\n",
    "    return price\n",
    "\n",
    "# Example\n",
    "boness_call = boness_model(S=100, K=95, T=1, r=0.05, sigma=0.2, q=0.02, option_type=\"call\")\n",
    "print(f\"Boness Call Option Price: {boness_call:.2f}\")"
   ]
  },
  {
   "cell_type": "markdown",
   "id": "9c9f52f2",
   "metadata": {},
   "source": [
    "## Samuelson Model\n",
    "- Used for options on futures with log-normality assumptions."
   ]
  },
  {
   "cell_type": "code",
   "execution_count": 5,
   "id": "ed8deafe",
   "metadata": {},
   "outputs": [
    {
     "name": "stdout",
     "output_type": "stream",
     "text": [
      "Samuelson Call Option Price: 10.01\n"
     ]
    }
   ],
   "source": [
    "def samuelson_model(F, K, T, r, sigma, option_type=\"call\"):\n",
    "    \"\"\"\n",
    "    Samuelson Model for option pricing on futures.\n",
    "\n",
    "    Parameters:\n",
    "        F (float): Current futures price.\n",
    "        K (float): Strike price.\n",
    "        T (float): Time to maturity (in years).\n",
    "        r (float): Risk-free interest rate.\n",
    "        sigma (float): Volatility of the futures price.\n",
    "        option_type (str): \"call\" or \"put\".\n",
    "    \"\"\"\n",
    "    d1 = (math.log(F / K) + (sigma**2 / 2) * T) / (sigma * math.sqrt(T))\n",
    "    d2 = d1 - sigma * math.sqrt(T)\n",
    "    if option_type == \"call\":\n",
    "        price = math.exp(-r * T) * (F * norm.cdf(d1) - K * norm.cdf(d2))\n",
    "    elif option_type == \"put\":\n",
    "        price = math.exp(-r * T) * (K * norm.cdf(-d2) - F * norm.cdf(-d1))\n",
    "    return price\n",
    "\n",
    "# Example\n",
    "samuelson_call = samuelson_model(F=100, K=95, T=1, r=0.05, sigma=0.2, option_type=\"call\")\n",
    "print(f\"Samuelson Call Option Price: {samuelson_call:.2f}\")"
   ]
  }
 ],
 "metadata": {
  "kernelspec": {
   "display_name": "Python 3 (ipykernel)",
   "language": "python",
   "name": "python3"
  },
  "language_info": {
   "codemirror_mode": {
    "name": "ipython",
    "version": 3
   },
   "file_extension": ".py",
   "mimetype": "text/x-python",
   "name": "python",
   "nbconvert_exporter": "python",
   "pygments_lexer": "ipython3",
   "version": "3.9.13"
  }
 },
 "nbformat": 4,
 "nbformat_minor": 5
}
