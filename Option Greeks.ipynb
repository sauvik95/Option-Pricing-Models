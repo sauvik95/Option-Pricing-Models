{
 "cells": [
  {
   "cell_type": "markdown",
   "id": "fba283eb",
   "metadata": {},
   "source": [
    "# Option Greeks"
   ]
  },
  {
   "cell_type": "code",
   "execution_count": 1,
   "id": "71ee34c0",
   "metadata": {},
   "outputs": [
    {
     "name": "stderr",
     "output_type": "stream",
     "text": [
      "<frozen importlib._bootstrap>:228: RuntimeWarning: scipy._lib.messagestream.MessageStream size changed, may indicate binary incompatibility. Expected 56 from C header, got 64 from PyObject\n"
     ]
    }
   ],
   "source": [
    "from scipy.stats import norm\n",
    "import math"
   ]
  },
  {
   "cell_type": "code",
   "execution_count": 2,
   "id": "f46fbcd0",
   "metadata": {},
   "outputs": [],
   "source": [
    "# Parameter\n",
    "S = 100\n",
    "K = 100\n",
    "T = 1\n",
    "r = 0.05\n",
    "sigma = 0.2"
   ]
  },
  {
   "cell_type": "markdown",
   "id": "7f56901e",
   "metadata": {},
   "source": [
    "## 1. Delta"
   ]
  },
  {
   "cell_type": "code",
   "execution_count": 3,
   "id": "90e5b487",
   "metadata": {},
   "outputs": [
    {
     "name": "stdout",
     "output_type": "stream",
     "text": [
      "Call Delta: 0.6368306511756191\n",
      "Put Delta: -0.3631693488243809\n"
     ]
    }
   ],
   "source": [
    "def delta(S, K, T, r, sigma, option_type=\"call\"):\n",
    "    d1 = (math.log(S / K) + (r + sigma**2 / 2) * T) / (sigma * math.sqrt(T))\n",
    "    if option_type == \"call\":\n",
    "        return norm.cdf(d1)\n",
    "    elif option_type == \"put\":\n",
    "        return norm.cdf(d1) - 1\n",
    "\n",
    "# Example\n",
    "print(\"Call Delta:\", delta(S, K, T, r, sigma, option_type=\"call\"))\n",
    "print(\"Put Delta:\", delta(S, K, T, r, sigma, option_type=\"put\"))"
   ]
  },
  {
   "cell_type": "markdown",
   "id": "05f72982",
   "metadata": {},
   "source": [
    "## 2. Gamma"
   ]
  },
  {
   "cell_type": "code",
   "execution_count": 4,
   "id": "e1f524d0",
   "metadata": {},
   "outputs": [
    {
     "name": "stdout",
     "output_type": "stream",
     "text": [
      "Gamma: 0.018762017345846895\n"
     ]
    }
   ],
   "source": [
    "def gamma(S, K, T, r, sigma):\n",
    "    d1 = (math.log(S / K) + (r + sigma**2 / 2) * T) / (sigma * math.sqrt(T))\n",
    "    return norm.pdf(d1) / (S * sigma * math.sqrt(T))\n",
    "\n",
    "# Example\n",
    "print(\"Gamma:\", gamma(S, K, T, r, sigma))"
   ]
  },
  {
   "cell_type": "markdown",
   "id": "b895c658",
   "metadata": {},
   "source": [
    "## 3. Theta"
   ]
  },
  {
   "cell_type": "code",
   "execution_count": 5,
   "id": "ceaea4be",
   "metadata": {},
   "outputs": [
    {
     "name": "stdout",
     "output_type": "stream",
     "text": [
      "Call Theta: -0.01757267820941972\n",
      "Put Theta: -0.004542138147766099\n"
     ]
    }
   ],
   "source": [
    "def theta(S, K, T, r, sigma, option_type=\"call\"):\n",
    "    d1 = (math.log(S / K) + (r + sigma**2 / 2) * T) / (sigma * math.sqrt(T))\n",
    "    d2 = d1 - sigma * math.sqrt(T)\n",
    "    if option_type == \"call\":\n",
    "        return (-S * norm.pdf(d1) * sigma / (2 * math.sqrt(T))\n",
    "                - r * K * math.exp(-r * T) * norm.cdf(d2)) / 365\n",
    "    elif option_type == \"put\":\n",
    "        return (-S * norm.pdf(d1) * sigma / (2 * math.sqrt(T))\n",
    "                + r * K * math.exp(-r * T) * norm.cdf(-d2)) / 365\n",
    "\n",
    "# Example\n",
    "print(\"Call Theta:\", theta(S, K, T, r, sigma, option_type=\"call\"))\n",
    "print(\"Put Theta:\", theta(S, K, T, r, sigma, option_type=\"put\"))"
   ]
  },
  {
   "cell_type": "markdown",
   "id": "698da2b0",
   "metadata": {},
   "source": [
    "## 4. Vega"
   ]
  },
  {
   "cell_type": "code",
   "execution_count": 6,
   "id": "81059463",
   "metadata": {},
   "outputs": [
    {
     "name": "stdout",
     "output_type": "stream",
     "text": [
      "Vega: 0.3752403469169379\n"
     ]
    }
   ],
   "source": [
    "def vega(S, K, T, r, sigma):\n",
    "    d1 = (math.log(S / K) + (r + sigma**2 / 2) * T) / (sigma * math.sqrt(T))\n",
    "    return S * norm.pdf(d1) * math.sqrt(T) / 100\n",
    "\n",
    "# Example\n",
    "print(\"Vega:\", vega(S, K, T, r, sigma))"
   ]
  },
  {
   "cell_type": "markdown",
   "id": "d8a96502",
   "metadata": {},
   "source": [
    "## 5. Rho"
   ]
  },
  {
   "cell_type": "code",
   "execution_count": 7,
   "id": "1317ca96",
   "metadata": {},
   "outputs": [
    {
     "name": "stdout",
     "output_type": "stream",
     "text": [
      "Call Rho: 0.5323248154537634\n",
      "Put Rho: -0.4189046090469506\n"
     ]
    }
   ],
   "source": [
    "def rho(S, K, T, r, sigma, option_type=\"call\"):\n",
    "    d1 = (math.log(S / K) + (r + sigma**2 / 2) * T) / (sigma * math.sqrt(T))\n",
    "    d2 = d1 - sigma * math.sqrt(T)\n",
    "    if option_type == \"call\":\n",
    "        return K * T * math.exp(-r * T) * norm.cdf(d2) / 100\n",
    "    elif option_type == \"put\":\n",
    "        return -K * T * math.exp(-r * T) * norm.cdf(-d2) / 100\n",
    "\n",
    "# Example\n",
    "print(\"Call Rho:\", rho(S, K, T, r, sigma, option_type=\"call\"))\n",
    "print(\"Put Rho:\", rho(S, K, T, r, sigma, option_type=\"put\"))"
   ]
  },
  {
   "cell_type": "code",
   "execution_count": null,
   "id": "6040f8e1",
   "metadata": {},
   "outputs": [],
   "source": []
  }
 ],
 "metadata": {
  "kernelspec": {
   "display_name": "Python 3 (ipykernel)",
   "language": "python",
   "name": "python3"
  },
  "language_info": {
   "codemirror_mode": {
    "name": "ipython",
    "version": 3
   },
   "file_extension": ".py",
   "mimetype": "text/x-python",
   "name": "python",
   "nbconvert_exporter": "python",
   "pygments_lexer": "ipython3",
   "version": "3.9.13"
  }
 },
 "nbformat": 4,
 "nbformat_minor": 5
}
